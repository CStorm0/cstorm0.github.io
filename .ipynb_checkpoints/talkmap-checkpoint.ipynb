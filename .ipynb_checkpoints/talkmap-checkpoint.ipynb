{
 "cells": [
  {
   "cell_type": "markdown",
   "metadata": {},
   "source": [
    "# Leaflet cluster map of talk locations\n",
    "\n",
    "Run this from the _talks/ directory, which contains .md files of all your talks. This scrapes the location YAML field from each .md file, geolocates it with geopy/Nominatim, and uses the getorg library to output data, HTML, and Javascript for a standalone cluster map."
   ]
  },
  {
   "cell_type": "code",
   "execution_count": 4,
   "metadata": {
    "collapsed": false,
    "jupyter": {
     "outputs_hidden": false
    }
   },
   "outputs": [
    {
     "name": "stdout",
     "output_type": "stream",
     "text": [
      "Requirement already satisfied: getorg in /Users/cstorm/anaconda3/envs/cstorm_website/lib/python3.12/site-packages (0.3.1)\n",
      "Requirement already satisfied: geopy in /Users/cstorm/anaconda3/envs/cstorm_website/lib/python3.12/site-packages (from getorg) (2.4.1)\n",
      "Requirement already satisfied: pygithub in /Users/cstorm/anaconda3/envs/cstorm_website/lib/python3.12/site-packages (from getorg) (2.3.0)\n",
      "Requirement already satisfied: retrying in /Users/cstorm/anaconda3/envs/cstorm_website/lib/python3.12/site-packages (from getorg) (1.3.4)\n",
      "Requirement already satisfied: geographiclib<3,>=1.52 in /Users/cstorm/anaconda3/envs/cstorm_website/lib/python3.12/site-packages (from geopy->getorg) (2.0)\n",
      "Requirement already satisfied: pynacl>=1.4.0 in /Users/cstorm/anaconda3/envs/cstorm_website/lib/python3.12/site-packages (from pygithub->getorg) (1.5.0)\n",
      "Requirement already satisfied: requests>=2.14.0 in /Users/cstorm/anaconda3/envs/cstorm_website/lib/python3.12/site-packages (from pygithub->getorg) (2.31.0)\n",
      "Requirement already satisfied: pyjwt>=2.4.0 in /Users/cstorm/anaconda3/envs/cstorm_website/lib/python3.12/site-packages (from pyjwt[crypto]>=2.4.0->pygithub->getorg) (2.8.0)\n",
      "Requirement already satisfied: typing-extensions>=4.0.0 in /Users/cstorm/anaconda3/envs/cstorm_website/lib/python3.12/site-packages (from pygithub->getorg) (4.11.0)\n",
      "Requirement already satisfied: urllib3>=1.26.0 in /Users/cstorm/anaconda3/envs/cstorm_website/lib/python3.12/site-packages (from pygithub->getorg) (2.2.1)\n",
      "Requirement already satisfied: Deprecated in /Users/cstorm/anaconda3/envs/cstorm_website/lib/python3.12/site-packages (from pygithub->getorg) (1.2.14)\n",
      "Requirement already satisfied: six>=1.7.0 in /Users/cstorm/anaconda3/envs/cstorm_website/lib/python3.12/site-packages (from retrying->getorg) (1.16.0)\n",
      "Requirement already satisfied: cryptography>=3.4.0 in /Users/cstorm/anaconda3/envs/cstorm_website/lib/python3.12/site-packages (from pyjwt[crypto]>=2.4.0->pygithub->getorg) (42.0.7)\n",
      "Requirement already satisfied: cffi>=1.4.1 in /Users/cstorm/anaconda3/envs/cstorm_website/lib/python3.12/site-packages (from pynacl>=1.4.0->pygithub->getorg) (1.16.0)\n",
      "Requirement already satisfied: charset-normalizer<4,>=2 in /Users/cstorm/anaconda3/envs/cstorm_website/lib/python3.12/site-packages (from requests>=2.14.0->pygithub->getorg) (2.0.4)\n",
      "Requirement already satisfied: idna<4,>=2.5 in /Users/cstorm/anaconda3/envs/cstorm_website/lib/python3.12/site-packages (from requests>=2.14.0->pygithub->getorg) (3.7)\n",
      "Requirement already satisfied: certifi>=2017.4.17 in /Users/cstorm/anaconda3/envs/cstorm_website/lib/python3.12/site-packages (from requests>=2.14.0->pygithub->getorg) (2024.2.2)\n",
      "Requirement already satisfied: wrapt<2,>=1.10 in /Users/cstorm/anaconda3/envs/cstorm_website/lib/python3.12/site-packages (from Deprecated->pygithub->getorg) (1.16.0)\n",
      "Requirement already satisfied: pycparser in /Users/cstorm/anaconda3/envs/cstorm_website/lib/python3.12/site-packages (from cffi>=1.4.1->pynacl>=1.4.0->pygithub->getorg) (2.21)\n"
     ]
    }
   ],
   "source": [
    "!pip install getorg --upgrade\n",
    "import glob\n",
    "import getorg\n",
    "from geopy import Nominatim"
   ]
  },
  {
   "cell_type": "code",
   "execution_count": 17,
   "metadata": {
    "collapsed": false,
    "jupyter": {
     "outputs_hidden": false
    }
   },
   "outputs": [
    {
     "data": {
      "text/plain": [
       "['./_talks/2023-icmcs.md',\n",
       " './_talks/2024-aps.md',\n",
       " './_talks/2020-ehprg.md',\n",
       " './_talks/2022-aps.md',\n",
       " './_talks/2022-rochester.md',\n",
       " './_talks/2019-rio.md',\n",
       " './_talks/2019-ehprg.md',\n",
       " './_talks/2021-awe.md',\n",
       " './_talks/2024-kcl.md',\n",
       " './_talks/2018-grc.md',\n",
       " './_talks/2023-gsccm.md',\n",
       " './_talks/2019-dls.md',\n",
       " './_talks/2023-airapt.md',\n",
       " './_talks/2021-csec.md',\n",
       " './_talks/2023-aps.md',\n",
       " './_talks/2021-desy.md']"
      ]
     },
     "execution_count": 17,
     "metadata": {},
     "output_type": "execute_result"
    }
   ],
   "source": [
    "g = glob.glob('./_talks/*.md')\n",
    "g"
   ]
  },
  {
   "cell_type": "code",
   "execution_count": 18,
   "metadata": {},
   "outputs": [],
   "source": [
    "geocoder = Nominatim(user_agent=\"christian.9305@hotmail.com\")\n",
    "location_dict = {}\n",
    "location = \"\"\n",
    "permalink = \"\"\n",
    "title = \"\""
   ]
  },
  {
   "cell_type": "code",
   "execution_count": 28,
   "metadata": {
    "collapsed": false,
    "jupyter": {
     "outputs_hidden": false
    }
   },
   "outputs": [
    {
     "name": "stdout",
     "output_type": "stream",
     "text": [
      "Edinburgh, UK\n",
      "True\n",
      "Minneapolis, MN USA\n",
      "True\n",
      "Remote\n",
      "Chicago, IL USA\n",
      "True\n",
      "Rochester, NY USA\n",
      "True\n",
      "Rio de Janeiro, Brazil\n",
      "True\n",
      "Prague, Czechia\n",
      "True\n",
      "Online\n",
      "London, UK\n",
      "True\n",
      "Holderness, NH USA\n",
      "True\n",
      "Chicago, IL USA\n",
      "True\n",
      "Harwell, UK\n",
      "True\n",
      "Edinburgh, UK\n",
      "True\n",
      "Online\n",
      "Las Vegas, NV USA\n",
      "True\n",
      "Remote\n"
     ]
    }
   ],
   "source": [
    "\n",
    "for file in g:\n",
    "    with open(file, 'r') as f:\n",
    "        lines = f.read()\n",
    "        if lines.find('location: \"') > 1:\n",
    "            loc_start = lines.find('location: \"') + 11\n",
    "            lines_trim = lines[loc_start:]\n",
    "            loc_end = lines_trim.find('\"')\n",
    "            location = lines_trim[:loc_end]\n",
    "            print(location)\n",
    "                            \n",
    "        if location not in ['Remote', 'Online']:            \n",
    "            print(True)\n",
    "            location_dict[location] = geocoder.geocode(location)\n",
    "            #print(location, \"\\n\", location_dict[location])\n",
    "        else:\n",
    "            print(False)\n"
   ]
  },
  {
   "cell_type": "code",
   "execution_count": 26,
   "metadata": {
    "collapsed": false,
    "jupyter": {
     "outputs_hidden": false
    }
   },
   "outputs": [
    {
     "data": {
      "text/plain": [
       "'Written map to ../talkmap/'"
      ]
     },
     "execution_count": 26,
     "metadata": {},
     "output_type": "execute_result"
    }
   ],
   "source": [
    "m = getorg.orgmap.create_map_obj()\n",
    "getorg.orgmap.output_html_cluster_map(location_dict, folder_name=\"../talkmap\", hashed_usernames=False)"
   ]
  },
  {
   "cell_type": "code",
   "execution_count": null,
   "metadata": {},
   "outputs": [],
   "source": []
  },
  {
   "cell_type": "code",
   "execution_count": null,
   "metadata": {},
   "outputs": [],
   "source": []
  }
 ],
 "metadata": {
  "anaconda-cloud": {},
  "kernelspec": {
   "display_name": "Python 3 (ipykernel)",
   "language": "python",
   "name": "python3"
  },
  "language_info": {
   "codemirror_mode": {
    "name": "ipython",
    "version": 3
   },
   "file_extension": ".py",
   "mimetype": "text/x-python",
   "name": "python",
   "nbconvert_exporter": "python",
   "pygments_lexer": "ipython3",
   "version": "3.12.3"
  }
 },
 "nbformat": 4,
 "nbformat_minor": 4
}
